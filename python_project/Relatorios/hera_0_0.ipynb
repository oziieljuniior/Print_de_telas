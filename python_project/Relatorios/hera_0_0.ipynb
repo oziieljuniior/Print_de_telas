{
 "cells": [
  {
   "cell_type": "code",
   "execution_count": 1,
   "metadata": {},
   "outputs": [],
   "source": [
    "import pandas as pd\n",
    "import numpy as np"
   ]
  },
  {
   "cell_type": "code",
   "execution_count": 2,
   "metadata": {},
   "outputs": [
    {
     "name": "stdout",
     "output_type": "stream",
     "text": [
      "  Hora_Aposta\n",
      "0    03:55:45\n",
      "1    03:55:58\n",
      "2    03:56:20\n",
      "3    03:56:30\n",
      "4    03:56:53\n",
      "5    03:57:06\n",
      "6    03:57:33\n",
      "7    03:57:44\n",
      "8    03:57:56\n",
      "9    03:58:12\n"
     ]
    },
    {
     "data": {
      "text/plain": [
       "Hora_Aposta         object\n",
       "Data_Hora_Aposta    object\n",
       "dtype: object"
      ]
     },
     "execution_count": 2,
     "metadata": {},
     "output_type": "execute_result"
    }
   ],
   "source": [
    "data_hora = pd.read_excel('C:\\\\Users\\\\Riallen\\\\Documents\\\\Print_de_telas\\\\data1\\\\hora_apostas.xlsx')\n",
    "print(data_hora.head(10))\n",
    "data_hora['Data_Hora_Aposta'] = pd.to_datetime(data_hora['Hora_Aposta'])\n",
    "data_hora['Data_Hora_Aposta'] = data_hora['Data_Hora_Aposta'].dt.date\n",
    "#data_hora['Hora_Aposta'] = data_hora['Hora_Aposta'].dt.strftime('%H:%M:%S')\n",
    "#data_hora.rename(columns={'03:55:45': ''}, inplace=True)\n",
    "#print(data_hora)\n",
    "#print(len(data_hora))\n",
    "#t = len(data_hora)\n",
    "#for i in range(0,t):\n",
    "#    print(data_hora['Hora_Aposta'][i])\n",
    "#    print(type(data_hora['Hora_Aposta'][i]))\n",
    "data_hora.dtypes\n"
   ]
  },
  {
   "cell_type": "code",
   "execution_count": 3,
   "metadata": {},
   "outputs": [],
   "source": [
    "data_hora[\"hour\"] = data_hora['Hora_Aposta'].str.replace(\":.+\", \"\", regex=True).astype(\"int\")"
   ]
  },
  {
   "cell_type": "code",
   "execution_count": 4,
   "metadata": {},
   "outputs": [
    {
     "data": {
      "text/html": [
       "<div>\n",
       "<style scoped>\n",
       "    .dataframe tbody tr th:only-of-type {\n",
       "        vertical-align: middle;\n",
       "    }\n",
       "\n",
       "    .dataframe tbody tr th {\n",
       "        vertical-align: top;\n",
       "    }\n",
       "\n",
       "    .dataframe thead th {\n",
       "        text-align: right;\n",
       "    }\n",
       "</style>\n",
       "<table border=\"1\" class=\"dataframe\">\n",
       "  <thead>\n",
       "    <tr style=\"text-align: right;\">\n",
       "      <th></th>\n",
       "      <th>Hora_Aposta</th>\n",
       "      <th>Data_Hora_Aposta</th>\n",
       "      <th>hour</th>\n",
       "    </tr>\n",
       "  </thead>\n",
       "  <tbody>\n",
       "    <tr>\n",
       "      <th>0</th>\n",
       "      <td>03:55:45</td>\n",
       "      <td>2023-02-13</td>\n",
       "      <td>3</td>\n",
       "    </tr>\n",
       "    <tr>\n",
       "      <th>1</th>\n",
       "      <td>03:55:58</td>\n",
       "      <td>2023-02-13</td>\n",
       "      <td>3</td>\n",
       "    </tr>\n",
       "    <tr>\n",
       "      <th>2</th>\n",
       "      <td>03:56:20</td>\n",
       "      <td>2023-02-13</td>\n",
       "      <td>3</td>\n",
       "    </tr>\n",
       "    <tr>\n",
       "      <th>3</th>\n",
       "      <td>03:56:30</td>\n",
       "      <td>2023-02-13</td>\n",
       "      <td>3</td>\n",
       "    </tr>\n",
       "    <tr>\n",
       "      <th>4</th>\n",
       "      <td>03:56:53</td>\n",
       "      <td>2023-02-13</td>\n",
       "      <td>3</td>\n",
       "    </tr>\n",
       "    <tr>\n",
       "      <th>...</th>\n",
       "      <td>...</td>\n",
       "      <td>...</td>\n",
       "      <td>...</td>\n",
       "    </tr>\n",
       "    <tr>\n",
       "      <th>496</th>\n",
       "      <td>07:24:55</td>\n",
       "      <td>2023-02-13</td>\n",
       "      <td>7</td>\n",
       "    </tr>\n",
       "    <tr>\n",
       "      <th>497</th>\n",
       "      <td>07:25:10</td>\n",
       "      <td>2023-02-13</td>\n",
       "      <td>7</td>\n",
       "    </tr>\n",
       "    <tr>\n",
       "      <th>498</th>\n",
       "      <td>07:25:24</td>\n",
       "      <td>2023-02-13</td>\n",
       "      <td>7</td>\n",
       "    </tr>\n",
       "    <tr>\n",
       "      <th>499</th>\n",
       "      <td>07:25:42</td>\n",
       "      <td>2023-02-13</td>\n",
       "      <td>7</td>\n",
       "    </tr>\n",
       "    <tr>\n",
       "      <th>500</th>\n",
       "      <td>07:25:59</td>\n",
       "      <td>2023-02-13</td>\n",
       "      <td>7</td>\n",
       "    </tr>\n",
       "  </tbody>\n",
       "</table>\n",
       "<p>501 rows × 3 columns</p>\n",
       "</div>"
      ],
      "text/plain": [
       "    Hora_Aposta Data_Hora_Aposta  hour\n",
       "0      03:55:45       2023-02-13     3\n",
       "1      03:55:58       2023-02-13     3\n",
       "2      03:56:20       2023-02-13     3\n",
       "3      03:56:30       2023-02-13     3\n",
       "4      03:56:53       2023-02-13     3\n",
       "..          ...              ...   ...\n",
       "496    07:24:55       2023-02-13     7\n",
       "497    07:25:10       2023-02-13     7\n",
       "498    07:25:24       2023-02-13     7\n",
       "499    07:25:42       2023-02-13     7\n",
       "500    07:25:59       2023-02-13     7\n",
       "\n",
       "[501 rows x 3 columns]"
      ]
     },
     "execution_count": 4,
     "metadata": {},
     "output_type": "execute_result"
    }
   ],
   "source": [
    "data_hora"
   ]
  },
  {
   "cell_type": "code",
   "execution_count": 5,
   "metadata": {},
   "outputs": [
    {
     "name": "stdout",
     "output_type": "stream",
     "text": [
      "Elemento:  77\n",
      "Indice:  63\n",
      "Elemento:  57\n",
      "Indice:  89\n",
      "Elemento:  50\n",
      "Indice:  117\n",
      "Elemento:  86\n",
      "Indice:  129\n",
      "Elemento:  77\n",
      "Indice:  287\n",
      "Elemento:  7\n",
      "Indice:  417\n",
      "Elemento:  4\n",
      "Indice:  450\n"
     ]
    }
   ],
   "source": [
    "data_qtapost = pd.read_excel('C:\\\\Users\\\\Riallen\\\\Documents\\\\Print_de_telas\\\\data1\\\\qt_apostadores1.xlsx')\n",
    "data_qtapost.head()\n",
    "t = len(data_qtapost)\n",
    "\n",
    "for i in range(0,t):\n",
    "    if data_qtapost['Qt_Apostadores'][i] // 100 == 0:\n",
    "        print(\"Elemento: \", data_qtapost['Qt_Apostadores'][i])\n",
    "        print(\"Indice: \", i)\n",
    "\n"
   ]
  },
  {
   "cell_type": "code",
   "execution_count": 6,
   "metadata": {},
   "outputs": [],
   "source": [
    "data_qtapost['Qt_Apostadores'][63] = 577\n",
    "data_qtapost['Qt_Apostadores'][89] = 571\n",
    "data_qtapost['Qt_Apostadores'][117] = 850\n",
    "data_qtapost['Qt_Apostadores'][129] = 886\n",
    "data_qtapost['Qt_Apostadores'][287] = 1177\n",
    "data_qtapost['Qt_Apostadores'][417] = 1777\n",
    "data_qtapost['Qt_Apostadores'][450] = 1771"
   ]
  },
  {
   "cell_type": "code",
   "execution_count": 7,
   "metadata": {},
   "outputs": [
    {
     "name": "stdout",
     "output_type": "stream",
     "text": [
      "Elemento:  14143\n",
      "Indice:  301\n"
     ]
    }
   ],
   "source": [
    "t = len(data_qtapost)\n",
    "\n",
    "for i in range(0,t):\n",
    "    if data_qtapost['Qt_Apostadores'][i] // 10000 >= 1:\n",
    "        print(\"Elemento: \", data_qtapost['Qt_Apostadores'][i])\n",
    "        print(\"Indice: \", i)\n"
   ]
  },
  {
   "cell_type": "code",
   "execution_count": 8,
   "metadata": {},
   "outputs": [],
   "source": [
    "data_qtapost['Qt_Apostadores'][301] = 1413"
   ]
  },
  {
   "cell_type": "code",
   "execution_count": 9,
   "metadata": {},
   "outputs": [
    {
     "data": {
      "text/html": [
       "<div>\n",
       "<style scoped>\n",
       "    .dataframe tbody tr th:only-of-type {\n",
       "        vertical-align: middle;\n",
       "    }\n",
       "\n",
       "    .dataframe tbody tr th {\n",
       "        vertical-align: top;\n",
       "    }\n",
       "\n",
       "    .dataframe thead th {\n",
       "        text-align: right;\n",
       "    }\n",
       "</style>\n",
       "<table border=\"1\" class=\"dataframe\">\n",
       "  <thead>\n",
       "    <tr style=\"text-align: right;\">\n",
       "      <th></th>\n",
       "      <th>Qt_Apostadores</th>\n",
       "    </tr>\n",
       "  </thead>\n",
       "  <tbody>\n",
       "    <tr>\n",
       "      <th>0</th>\n",
       "      <td>597</td>\n",
       "    </tr>\n",
       "    <tr>\n",
       "      <th>1</th>\n",
       "      <td>598</td>\n",
       "    </tr>\n",
       "    <tr>\n",
       "      <th>2</th>\n",
       "      <td>535</td>\n",
       "    </tr>\n",
       "    <tr>\n",
       "      <th>3</th>\n",
       "      <td>696</td>\n",
       "    </tr>\n",
       "    <tr>\n",
       "      <th>4</th>\n",
       "      <td>648</td>\n",
       "    </tr>\n",
       "    <tr>\n",
       "      <th>...</th>\n",
       "      <td>...</td>\n",
       "    </tr>\n",
       "    <tr>\n",
       "      <th>496</th>\n",
       "      <td>2557</td>\n",
       "    </tr>\n",
       "    <tr>\n",
       "      <th>497</th>\n",
       "      <td>2626</td>\n",
       "    </tr>\n",
       "    <tr>\n",
       "      <th>498</th>\n",
       "      <td>1942</td>\n",
       "    </tr>\n",
       "    <tr>\n",
       "      <th>499</th>\n",
       "      <td>1844</td>\n",
       "    </tr>\n",
       "    <tr>\n",
       "      <th>500</th>\n",
       "      <td>2034</td>\n",
       "    </tr>\n",
       "  </tbody>\n",
       "</table>\n",
       "<p>501 rows × 1 columns</p>\n",
       "</div>"
      ],
      "text/plain": [
       "     Qt_Apostadores\n",
       "0               597\n",
       "1               598\n",
       "2               535\n",
       "3               696\n",
       "4               648\n",
       "..              ...\n",
       "496            2557\n",
       "497            2626\n",
       "498            1942\n",
       "499            1844\n",
       "500            2034\n",
       "\n",
       "[501 rows x 1 columns]"
      ]
     },
     "execution_count": 9,
     "metadata": {},
     "output_type": "execute_result"
    }
   ],
   "source": [
    "data_qtapost"
   ]
  },
  {
   "cell_type": "code",
   "execution_count": 10,
   "metadata": {},
   "outputs": [
    {
     "data": {
      "text/html": [
       "<div>\n",
       "<style scoped>\n",
       "    .dataframe tbody tr th:only-of-type {\n",
       "        vertical-align: middle;\n",
       "    }\n",
       "\n",
       "    .dataframe tbody tr th {\n",
       "        vertical-align: top;\n",
       "    }\n",
       "\n",
       "    .dataframe thead th {\n",
       "        text-align: right;\n",
       "    }\n",
       "</style>\n",
       "<table border=\"1\" class=\"dataframe\">\n",
       "  <thead>\n",
       "    <tr style=\"text-align: right;\">\n",
       "      <th></th>\n",
       "      <th>Odds</th>\n",
       "    </tr>\n",
       "  </thead>\n",
       "  <tbody>\n",
       "    <tr>\n",
       "      <th>0</th>\n",
       "      <td>3.54</td>\n",
       "    </tr>\n",
       "    <tr>\n",
       "      <th>1</th>\n",
       "      <td>1.19</td>\n",
       "    </tr>\n",
       "    <tr>\n",
       "      <th>2</th>\n",
       "      <td>2.58</td>\n",
       "    </tr>\n",
       "    <tr>\n",
       "      <th>3</th>\n",
       "      <td>1.00</td>\n",
       "    </tr>\n",
       "    <tr>\n",
       "      <th>4</th>\n",
       "      <td>2.60</td>\n",
       "    </tr>\n",
       "  </tbody>\n",
       "</table>\n",
       "</div>"
      ],
      "text/plain": [
       "   Odds\n",
       "0  3.54\n",
       "1  1.19\n",
       "2  2.58\n",
       "3  1.00\n",
       "4  2.60"
      ]
     },
     "execution_count": 10,
     "metadata": {},
     "output_type": "execute_result"
    }
   ],
   "source": [
    "data_odds = pd.read_excel(\"C:\\\\Users\\\\Riallen\\\\Documents\\\\Print_de_telas\\\\data1\\\\odd.xlsx\")\n",
    "data_odds.head()\n",
    "#data_odds.describe()\n",
    "#data_odds.dtypes"
   ]
  },
  {
   "cell_type": "code",
   "execution_count": 11,
   "metadata": {},
   "outputs": [
    {
     "data": {
      "text/plain": [
       "count    501.000000\n",
       "mean       9.654990\n",
       "std       46.210931\n",
       "min        1.000000\n",
       "25%        1.350000\n",
       "50%        2.080000\n",
       "75%        4.140000\n",
       "max      810.900000\n",
       "Name: Odds, dtype: float64"
      ]
     },
     "execution_count": 11,
     "metadata": {},
     "output_type": "execute_result"
    }
   ],
   "source": [
    "data_odds['Odds'].describe()"
   ]
  },
  {
   "cell_type": "code",
   "execution_count": 17,
   "metadata": {},
   "outputs": [
    {
     "data": {
      "text/html": [
       "<div>\n",
       "<style scoped>\n",
       "    .dataframe tbody tr th:only-of-type {\n",
       "        vertical-align: middle;\n",
       "    }\n",
       "\n",
       "    .dataframe tbody tr th {\n",
       "        vertical-align: top;\n",
       "    }\n",
       "\n",
       "    .dataframe thead th {\n",
       "        text-align: right;\n",
       "    }\n",
       "</style>\n",
       "<table border=\"1\" class=\"dataframe\">\n",
       "  <thead>\n",
       "    <tr style=\"text-align: right;\">\n",
       "      <th></th>\n",
       "      <th>Odds</th>\n",
       "      <th>Qt_Apostadores</th>\n",
       "      <th>Hora_Aposta</th>\n",
       "      <th>Data_Hora_Aposta</th>\n",
       "      <th>hour</th>\n",
       "    </tr>\n",
       "  </thead>\n",
       "  <tbody>\n",
       "    <tr>\n",
       "      <th>0</th>\n",
       "      <td>3.54</td>\n",
       "      <td>597</td>\n",
       "      <td>03:55:45</td>\n",
       "      <td>2023-02-13</td>\n",
       "      <td>3</td>\n",
       "    </tr>\n",
       "    <tr>\n",
       "      <th>1</th>\n",
       "      <td>1.19</td>\n",
       "      <td>598</td>\n",
       "      <td>03:55:58</td>\n",
       "      <td>2023-02-13</td>\n",
       "      <td>3</td>\n",
       "    </tr>\n",
       "    <tr>\n",
       "      <th>2</th>\n",
       "      <td>2.58</td>\n",
       "      <td>535</td>\n",
       "      <td>03:56:20</td>\n",
       "      <td>2023-02-13</td>\n",
       "      <td>3</td>\n",
       "    </tr>\n",
       "    <tr>\n",
       "      <th>3</th>\n",
       "      <td>1.00</td>\n",
       "      <td>696</td>\n",
       "      <td>03:56:30</td>\n",
       "      <td>2023-02-13</td>\n",
       "      <td>3</td>\n",
       "    </tr>\n",
       "    <tr>\n",
       "      <th>4</th>\n",
       "      <td>2.60</td>\n",
       "      <td>648</td>\n",
       "      <td>03:56:53</td>\n",
       "      <td>2023-02-13</td>\n",
       "      <td>3</td>\n",
       "    </tr>\n",
       "    <tr>\n",
       "      <th>...</th>\n",
       "      <td>...</td>\n",
       "      <td>...</td>\n",
       "      <td>...</td>\n",
       "      <td>...</td>\n",
       "      <td>...</td>\n",
       "    </tr>\n",
       "    <tr>\n",
       "      <th>496</th>\n",
       "      <td>12.47</td>\n",
       "      <td>2557</td>\n",
       "      <td>07:24:55</td>\n",
       "      <td>2023-02-13</td>\n",
       "      <td>7</td>\n",
       "    </tr>\n",
       "    <tr>\n",
       "      <th>497</th>\n",
       "      <td>1.32</td>\n",
       "      <td>2626</td>\n",
       "      <td>07:25:10</td>\n",
       "      <td>2023-02-13</td>\n",
       "      <td>7</td>\n",
       "    </tr>\n",
       "    <tr>\n",
       "      <th>498</th>\n",
       "      <td>1.22</td>\n",
       "      <td>1942</td>\n",
       "      <td>07:25:24</td>\n",
       "      <td>2023-02-13</td>\n",
       "      <td>7</td>\n",
       "    </tr>\n",
       "    <tr>\n",
       "      <th>499</th>\n",
       "      <td>1.08</td>\n",
       "      <td>1844</td>\n",
       "      <td>07:25:42</td>\n",
       "      <td>2023-02-13</td>\n",
       "      <td>7</td>\n",
       "    </tr>\n",
       "    <tr>\n",
       "      <th>500</th>\n",
       "      <td>1.65</td>\n",
       "      <td>2034</td>\n",
       "      <td>07:25:59</td>\n",
       "      <td>2023-02-13</td>\n",
       "      <td>7</td>\n",
       "    </tr>\n",
       "  </tbody>\n",
       "</table>\n",
       "<p>501 rows × 5 columns</p>\n",
       "</div>"
      ],
      "text/plain": [
       "      Odds  Qt_Apostadores Hora_Aposta Data_Hora_Aposta  hour\n",
       "0     3.54             597    03:55:45       2023-02-13     3\n",
       "1     1.19             598    03:55:58       2023-02-13     3\n",
       "2     2.58             535    03:56:20       2023-02-13     3\n",
       "3     1.00             696    03:56:30       2023-02-13     3\n",
       "4     2.60             648    03:56:53       2023-02-13     3\n",
       "..     ...             ...         ...              ...   ...\n",
       "496  12.47            2557    07:24:55       2023-02-13     7\n",
       "497   1.32            2626    07:25:10       2023-02-13     7\n",
       "498   1.22            1942    07:25:24       2023-02-13     7\n",
       "499   1.08            1844    07:25:42       2023-02-13     7\n",
       "500   1.65            2034    07:25:59       2023-02-13     7\n",
       "\n",
       "[501 rows x 5 columns]"
      ]
     },
     "execution_count": 17,
     "metadata": {},
     "output_type": "execute_result"
    }
   ],
   "source": [
    "data_geral = pd.concat([data_odds, data_qtapost, data_hora], axis = 1)\n",
    "data_geral "
   ]
  },
  {
   "cell_type": "code",
   "execution_count": 18,
   "metadata": {},
   "outputs": [],
   "source": [
    "data_geral.to_excel('C:\\\\Users\\\\Riallen\\\\Documents\\\\Print_de_telas\\\\data1\\\\data_geral.xlsx', index = False)"
   ]
  }
 ],
 "metadata": {
  "kernelspec": {
   "display_name": "venv",
   "language": "python",
   "name": "python3"
  },
  "language_info": {
   "codemirror_mode": {
    "name": "ipython",
    "version": 3
   },
   "file_extension": ".py",
   "mimetype": "text/x-python",
   "name": "python",
   "nbconvert_exporter": "python",
   "pygments_lexer": "ipython3",
   "version": "3.10.9"
  },
  "orig_nbformat": 4,
  "vscode": {
   "interpreter": {
    "hash": "ee706cf9ab4514418f41c0b3f8367d0c6de3c0f059d82aa7ac222f8966db3d53"
   }
  }
 },
 "nbformat": 4,
 "nbformat_minor": 2
}
